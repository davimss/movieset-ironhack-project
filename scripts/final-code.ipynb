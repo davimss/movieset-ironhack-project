{
 "cells": [
  {
   "cell_type": "code",
   "execution_count": 1,
   "metadata": {},
   "outputs": [],
   "source": [
    "import pandas as pd\n",
    "from sklearn.feature_extraction.text import TfidfVectorizer\n",
    "from sklearn.metrics.pairwise import cosine_similarity\n",
    "\n",
    "df = pd.read_excel(r'movies_ironhack_project.xlsx')\n",
    "\n",
    "# Convert 'year' column from int to str\n",
    "df['year'] = df['year'].astype(str)\n",
    "df['duration'] = df['duration'].astype(str)\n",
    "\n",
    "\n",
    "# Substituir NaNs por strings vazias\n",
    "df['genre'] = df['genre'].fillna('')\n",
    "df['director'] = df['director'].fillna('')\n",
    "df['actors'] = df['actors'].fillna('')\n",
    "df['title'] = df['title'].fillna('')\n",
    "df['language'] = df['language'].fillna('')\n",
    "df['year'] = df['year'].fillna('')\n",
    "df['duration'] = df['duration'].fillna('')\n",
    "\n",
    "# Criar a coluna combinada\n",
    "df['combined_features'] = df['genre'] + \" \" + df['director'] + \" \" + df['actors']  + \" \" + df['title'] + \" \" + df['language'] + \" \" + df['year'] + \" \" + df['duration']\t\n",
    "\n",
    "\n",
    "df.to_excel\n",
    "# Passo 3: Converter texto em vetores numéricos\n",
    "vectorizer = TfidfVectorizer(stop_words='english')\n",
    "feature_vectors = vectorizer.fit_transform(df['combined_features'])\n",
    "\n",
    "# Passo 4: Criar a função de recomendação\n",
    "def recommend_movies(movie_title, num_recommendations=10):\n",
    "    movie_index = df[df['title'] == movie_title].index[0]\n",
    "    similarity_scores = cosine_similarity(feature_vectors[movie_index], feature_vectors)\n",
    "    similar_movies = list(enumerate(similarity_scores[0]))\n",
    "    sorted_similar_movies = sorted(similar_movies, key=lambda x: x[1], reverse=True)[1:num_recommendations+1]\n",
    "    recommended_titles = []\n",
    "    for i in sorted_similar_movies:\n",
    "        recommended_titles.append(df.iloc[i[0]]['title'])\n",
    "    \n",
    "    return recommended_titles"
   ]
  },
  {
   "cell_type": "code",
   "execution_count": 2,
   "metadata": {},
   "outputs": [
    {
     "name": "stdout",
     "output_type": "stream",
     "text": [
      "['Atom Man vs. Superman', 'Mysterious Island', 'Blackhawk: Fearless Champion of Freedom', 'Brave Warrior', 'The Go Getter', 'Batman and Robin', 'Manhunt of Mystery Island', 'The Black Widow', 'The Big Bluff', 'Five Little Peppers at Home']\n"
     ]
    }
   ],
   "source": [
    "print(recommend_movies('Superman'))"
   ]
  }
 ],
 "metadata": {
  "kernelspec": {
   "display_name": "base",
   "language": "python",
   "name": "python3"
  },
  "language_info": {
   "codemirror_mode": {
    "name": "ipython",
    "version": 3
   },
   "file_extension": ".py",
   "mimetype": "text/x-python",
   "name": "python",
   "nbconvert_exporter": "python",
   "pygments_lexer": "ipython3",
   "version": "3.11.8"
  }
 },
 "nbformat": 4,
 "nbformat_minor": 2
}
